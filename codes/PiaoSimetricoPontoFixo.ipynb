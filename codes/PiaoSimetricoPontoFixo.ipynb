{
 "cells": [
  {
   "cell_type": "markdown",
   "metadata": {},
   "source": [
    "<center>Universidade Estadual Paulista - UNESP</center>\n",
    "<center>Faculdade de Engenharia de Ilha Solteira - FEIS</center>\n",
    "<center>Departamento de Engenharia Mecânica - DEM</center>\n",
    "<center>Programa de Pós-Graduação em Engenharia Mecânica - PPGEM</center>\n",
    "<br>\n",
    "<center><b>Disciplina: Dinâmica dos Sistemas Mecânicos</b></center>\n",
    "<center><b>Trabalho Computacional - Pião Simétrico com Ponto Fixo</b></center>\n",
    "<br>\n",
    "<center><b>Docente: <a href=\"https://www.samueldasilva.org/\">Samuel da Silva</a></b></center>\n",
    "<center><b>Discente: <a href=\"https://www.taggo.com/estevaofuzaro\">Estevão Fuzaro de Almeida</a></b></center>\n",
    "\n",
    "---\n",
    "\n",
    "A Figura abaixo representa um pião simétrico com massa $m$ que está fixo em $O$. Para se parametrizar o movimento do pião no espaço, deve-se fazer uma sequência de três rotações consecutivas em torno de três eixos diferentes, utilizando os ângulos de Euler.\n",
    "- Primeiramente, toma-se como referência inercial, $\\mathscr{I}$, o eixo $(X,Y,Z)$ e $\\{\\hat{i}, \\hat{j}, \\hat{k}\\}$ fixo em $O$.\n",
    "- A primeira rotação é em torno do eixo $Z \\equiv z_1$ com velocidade angular $\\dot{\\psi}$ com um ângulo de precessão no sistema móvel $\\mathscr{B}_1$ com $(x_1, y_1, z_1)$ e $\\{\\hat{i}_1, \\hat{j}_1, \\hat{k}_1\\}$.\n",
    "- O segundo giro é feito em torno de $x_1 \\equiv x_2$ no sentido positivo, com velocidade angular $\\dot{\\theta}$ e com um ângulo de nutação $\\theta$ no sistema móvel $\\mathscr{B}_2$ com $(x_2, y_2, z_2)$ e $\\{\\hat{i}_2, \\hat{j}_2, \\hat{k}_2\\}$.\n",
    "- Por fim, é feita a última rotação em torno de $z_2 \\equiv z$ com uma velocidade angular $\\dot{\\phi}$ e um ângulo de *spin* $\\phi$ no sistema móvel $\\mathscr{B}_3$ com $(x, y, z)$ e $\\{\\hat{i}_3, \\hat{j}_3, \\hat{k}_3\\}$.\n",
    "- O centro de massa do pião é representado pelo ponto $A$ e a distância do ponto $O$ até este ponto ao longo do eixo $z$ é $l$.\n",
    "\n",
    "<p align=\"center\">\n",
    "  <img src=\"imgs/piao.png\" alt=\"drawing\" width=\"350\" align=\"center\"/>\n",
    "</p>\n",
    "<p align=\"center\">\n",
    "  Fig. 1 - Pião simétrico com ponto fixo.\n",
    "</p>\n",
    "\n",
    "- O tensor de inércia $\\mathbb{I}_A$ do pião de massa $m$ calculado com relação aos eixos principais $x_2$, $y_2$ e $z_2$, dado por:\n",
    "$$\\mathbb{I}_A = \\begin{bmatrix} I_{x_2} & 0 & 0\\\\ 0 & I_{y_2} & 0 \\\\ 0 & 0 & I_{z_2}\\end{bmatrix}$$\n",
    "sendo $I_{x_2}$ , $I_{y_2}$ e $I_{z_2}$ componentes do tensor de inércia com relação aos eixos $x_2$, $y_2$ e $z_2$, respectivamente. Considerando que o pião é simétrico, então $I_{x_2} \\equiv I_{y_2} = I$, com isso:\n",
    "$$\\mathbb{I}_A = \\begin{bmatrix} I & 0 & 0\\\\ 0 & I & 0 \\\\ 0 & 0 & I_{z_2}\\end{bmatrix}$$"
   ]
  },
  {
   "cell_type": "code",
   "execution_count": 1,
   "metadata": {},
   "outputs": [],
   "source": [
    "# Bibliotecas\n",
    "import numpy as np\n",
    "import matplotlib.pyplot as plt\n",
    "import sympy as smp\n",
    "from scipy.integrate import odeint\n",
    "from scipy.io import savemat"
   ]
  },
  {
   "cell_type": "markdown",
   "metadata": {},
   "source": [
    "Faça um relatório descritivo com um *script* contendo as informações:"
   ]
  },
  {
   "cell_type": "markdown",
   "metadata": {},
   "source": [
    "---"
   ]
  },
  {
   "cell_type": "markdown",
   "metadata": {},
   "source": [
    "##### **1. Obtenha as matrizes de rotação entre os sistemas inercial e móveis usados.**"
   ]
  },
  {
   "cell_type": "code",
   "execution_count": 2,
   "metadata": {},
   "outputs": [],
   "source": [
    "# Definindo as variáveis do problema\n",
    "t, l, m, g = smp.symbols('t, l, m, g', real=True) # Tempo \"t\", Comprimento \"l\", Massa \"m\" e Gravidade \"g\"\n",
    "theta, psi, phi = smp.symbols(r'\\theta \\psi \\phi', cls=smp.Function) # Theta, Phi e Psi\n",
    "Ixx, Iyy, Izz, Ixy, Iyz, Ixz, I, Iz2 = smp.symbols('I_{xx}, I_{yy}, I_{zz}, I_{xy}, I_{yz}, I_{xz}, I, I_{z_2}', real=True) # Inércias\n",
    "Rx, Ry, Rz, Mz = smp.symbols('R_x, R_y, R_z, M_z', real=True) # Reações\n",
    "\n",
    "# Ângulos\n",
    "theta = theta(t)\n",
    "psi = psi(t)\n",
    "phi = phi(t)\n",
    "\n",
    "# Velocidades angulares\n",
    "theta_d = smp.diff(theta,t)\n",
    "psi_d = smp.diff(psi,t)\n",
    "phi_d = smp.diff(phi,t)\n",
    "\n",
    "# Acelerações angulares\n",
    "theta_dd = smp.diff(theta_d,t)\n",
    "psi_dd = smp.diff(psi_d,t)\n",
    "phi_dd = smp.diff(phi_d,t)"
   ]
  },
  {
   "cell_type": "markdown",
   "metadata": {},
   "source": [
    "- **Matriz de Transformação $T_{\\psi}$ da Base Inercial $\\mathscr{I}$ para a Base Móvel $\\mathscr{B}_1$**\n",
    "\n",
    "$$_{\\mathscr{B}_1} S = T_{\\psi}\\left({_{\\mathscr{I}}} S\\right)$$"
   ]
  },
  {
   "cell_type": "code",
   "execution_count": 3,
   "metadata": {},
   "outputs": [
    {
     "data": {
      "text/latex": [
       "$\\displaystyle \\left[\\begin{matrix}\\cos{\\left(\\psi{\\left(t \\right)} \\right)} & \\sin{\\left(\\psi{\\left(t \\right)} \\right)} & 0\\\\- \\sin{\\left(\\psi{\\left(t \\right)} \\right)} & \\cos{\\left(\\psi{\\left(t \\right)} \\right)} & 0\\\\0 & 0 & 1\\end{matrix}\\right]$"
      ],
      "text/plain": [
       "Matrix([\n",
       "[ cos(\\psi(t)), sin(\\psi(t)), 0],\n",
       "[-sin(\\psi(t)), cos(\\psi(t)), 0],\n",
       "[            0,            0, 1]])"
      ]
     },
     "execution_count": 3,
     "metadata": {},
     "output_type": "execute_result"
    }
   ],
   "source": [
    "T_psi = smp.Matrix([[smp.cos(psi),smp.sin(psi),0],\n",
    "                    [-smp.sin(psi),smp.cos(psi),0],\n",
    "                    [0,0,1]])\n",
    "T_i1 = T_psi\n",
    "T_i1.simplify()\n",
    "T_i1"
   ]
  },
  {
   "cell_type": "markdown",
   "metadata": {},
   "source": [
    "- **Matriz de Transformação $T_{\\theta}$ da Base Móvel $\\mathscr{B}_1$ para a Base Móvel $\\mathscr{B}_2$**\n",
    "\n",
    "$$_{\\mathscr{B}_2} S = T_{\\theta}\\left({_{\\mathscr{B}_1}} S\\right)$$"
   ]
  },
  {
   "cell_type": "code",
   "execution_count": 4,
   "metadata": {},
   "outputs": [
    {
     "data": {
      "text/latex": [
       "$\\displaystyle \\left[\\begin{matrix}1 & 0 & 0\\\\0 & \\cos{\\left(\\theta{\\left(t \\right)} \\right)} & \\sin{\\left(\\theta{\\left(t \\right)} \\right)}\\\\0 & - \\sin{\\left(\\theta{\\left(t \\right)} \\right)} & \\cos{\\left(\\theta{\\left(t \\right)} \\right)}\\end{matrix}\\right]$"
      ],
      "text/plain": [
       "Matrix([\n",
       "[1,               0,              0],\n",
       "[0,  cos(\\theta(t)), sin(\\theta(t))],\n",
       "[0, -sin(\\theta(t)), cos(\\theta(t))]])"
      ]
     },
     "execution_count": 4,
     "metadata": {},
     "output_type": "execute_result"
    }
   ],
   "source": [
    "T_theta = smp.Matrix([[1,0,0],\n",
    "                      [0,smp.cos(theta),smp.sin(theta)],\n",
    "                      [0,-smp.sin(theta),smp.cos(theta)]])\n",
    "T_12 = T_theta\n",
    "T_12.simplify()\n",
    "T_12"
   ]
  },
  {
   "cell_type": "markdown",
   "metadata": {},
   "source": [
    "- **Matriz de Transformação $T_{\\phi}$ da Base Móvel $\\mathscr{B}_2$ para a Base Móvel $\\mathscr{B}_3$**\n",
    "\n",
    "$$_{\\mathscr{B}_3} S = T_{\\phi}\\left({_{\\mathscr{B}_2}} S\\right)$$"
   ]
  },
  {
   "cell_type": "code",
   "execution_count": 5,
   "metadata": {},
   "outputs": [
    {
     "data": {
      "text/latex": [
       "$\\displaystyle \\left[\\begin{matrix}\\cos{\\left(\\phi{\\left(t \\right)} \\right)} & \\sin{\\left(\\phi{\\left(t \\right)} \\right)} & 0\\\\- \\sin{\\left(\\phi{\\left(t \\right)} \\right)} & \\cos{\\left(\\phi{\\left(t \\right)} \\right)} & 0\\\\0 & 0 & 1\\end{matrix}\\right]$"
      ],
      "text/plain": [
       "Matrix([\n",
       "[ cos(\\phi(t)), sin(\\phi(t)), 0],\n",
       "[-sin(\\phi(t)), cos(\\phi(t)), 0],\n",
       "[            0,            0, 1]])"
      ]
     },
     "execution_count": 5,
     "metadata": {},
     "output_type": "execute_result"
    }
   ],
   "source": [
    "T_phi = smp.Matrix([[smp.cos(phi),smp.sin(phi),0],\n",
    "                    [-smp.sin(phi),smp.cos(phi),0],\n",
    "                    [0,0,1]])\n",
    "T_23 = T_phi\n",
    "T_23.simplify()\n",
    "T_23"
   ]
  },
  {
   "cell_type": "markdown",
   "metadata": {},
   "source": [
    "- **Transformação da Base Inercial $\\mathscr{I}$ para a Base Móvel $\\mathscr{B}_2$**\n",
    "\n",
    "$$_{\\mathscr{B}_2} S = T_{\\theta}T_{\\psi}\\left({_{\\mathscr{I}}} S\\right)$$"
   ]
  },
  {
   "cell_type": "code",
   "execution_count": 6,
   "metadata": {},
   "outputs": [
    {
     "data": {
      "text/latex": [
       "$\\displaystyle \\left[\\begin{matrix}\\cos{\\left(\\psi{\\left(t \\right)} \\right)} & \\sin{\\left(\\psi{\\left(t \\right)} \\right)} & 0\\\\- \\sin{\\left(\\psi{\\left(t \\right)} \\right)} \\cos{\\left(\\theta{\\left(t \\right)} \\right)} & \\cos{\\left(\\psi{\\left(t \\right)} \\right)} \\cos{\\left(\\theta{\\left(t \\right)} \\right)} & \\sin{\\left(\\theta{\\left(t \\right)} \\right)}\\\\\\sin{\\left(\\psi{\\left(t \\right)} \\right)} \\sin{\\left(\\theta{\\left(t \\right)} \\right)} & - \\sin{\\left(\\theta{\\left(t \\right)} \\right)} \\cos{\\left(\\psi{\\left(t \\right)} \\right)} & \\cos{\\left(\\theta{\\left(t \\right)} \\right)}\\end{matrix}\\right]$"
      ],
      "text/plain": [
       "Matrix([\n",
       "[                cos(\\psi(t)),                 sin(\\psi(t)),              0],\n",
       "[-sin(\\psi(t))*cos(\\theta(t)),  cos(\\psi(t))*cos(\\theta(t)), sin(\\theta(t))],\n",
       "[ sin(\\psi(t))*sin(\\theta(t)), -sin(\\theta(t))*cos(\\psi(t)), cos(\\theta(t))]])"
      ]
     },
     "execution_count": 6,
     "metadata": {},
     "output_type": "execute_result"
    }
   ],
   "source": [
    "T_i2 = T_theta*T_psi\n",
    "T_i2.simplify()\n",
    "T_i2"
   ]
  },
  {
   "cell_type": "markdown",
   "metadata": {},
   "source": [
    "- **Transformação da Base Inercial $\\mathscr{I}$ para a Base Móvel $\\mathscr{B}_3$**\n",
    "\n",
    "$$_{\\mathscr{B}_3} S = T_{\\phi}T_{\\theta}T_{\\psi}\\left({_{\\mathscr{I}}} S\\right)$$"
   ]
  },
  {
   "cell_type": "code",
   "execution_count": 7,
   "metadata": {},
   "outputs": [
    {
     "data": {
      "text/latex": [
       "$\\displaystyle \\left[\\begin{matrix}- \\sin{\\left(\\phi{\\left(t \\right)} \\right)} \\sin{\\left(\\psi{\\left(t \\right)} \\right)} \\cos{\\left(\\theta{\\left(t \\right)} \\right)} + \\cos{\\left(\\phi{\\left(t \\right)} \\right)} \\cos{\\left(\\psi{\\left(t \\right)} \\right)} & \\sin{\\left(\\phi{\\left(t \\right)} \\right)} \\cos{\\left(\\psi{\\left(t \\right)} \\right)} \\cos{\\left(\\theta{\\left(t \\right)} \\right)} + \\sin{\\left(\\psi{\\left(t \\right)} \\right)} \\cos{\\left(\\phi{\\left(t \\right)} \\right)} & \\sin{\\left(\\phi{\\left(t \\right)} \\right)} \\sin{\\left(\\theta{\\left(t \\right)} \\right)}\\\\- \\sin{\\left(\\phi{\\left(t \\right)} \\right)} \\cos{\\left(\\psi{\\left(t \\right)} \\right)} - \\sin{\\left(\\psi{\\left(t \\right)} \\right)} \\cos{\\left(\\phi{\\left(t \\right)} \\right)} \\cos{\\left(\\theta{\\left(t \\right)} \\right)} & - \\sin{\\left(\\phi{\\left(t \\right)} \\right)} \\sin{\\left(\\psi{\\left(t \\right)} \\right)} + \\cos{\\left(\\phi{\\left(t \\right)} \\right)} \\cos{\\left(\\psi{\\left(t \\right)} \\right)} \\cos{\\left(\\theta{\\left(t \\right)} \\right)} & \\sin{\\left(\\theta{\\left(t \\right)} \\right)} \\cos{\\left(\\phi{\\left(t \\right)} \\right)}\\\\\\sin{\\left(\\psi{\\left(t \\right)} \\right)} \\sin{\\left(\\theta{\\left(t \\right)} \\right)} & - \\sin{\\left(\\theta{\\left(t \\right)} \\right)} \\cos{\\left(\\psi{\\left(t \\right)} \\right)} & \\cos{\\left(\\theta{\\left(t \\right)} \\right)}\\end{matrix}\\right]$"
      ],
      "text/plain": [
       "Matrix([\n",
       "[-sin(\\phi(t))*sin(\\psi(t))*cos(\\theta(t)) + cos(\\phi(t))*cos(\\psi(t)),  sin(\\phi(t))*cos(\\psi(t))*cos(\\theta(t)) + sin(\\psi(t))*cos(\\phi(t)), sin(\\phi(t))*sin(\\theta(t))],\n",
       "[-sin(\\phi(t))*cos(\\psi(t)) - sin(\\psi(t))*cos(\\phi(t))*cos(\\theta(t)), -sin(\\phi(t))*sin(\\psi(t)) + cos(\\phi(t))*cos(\\psi(t))*cos(\\theta(t)), sin(\\theta(t))*cos(\\phi(t))],\n",
       "[                                          sin(\\psi(t))*sin(\\theta(t)),                                          -sin(\\theta(t))*cos(\\psi(t)),              cos(\\theta(t))]])"
      ]
     },
     "execution_count": 7,
     "metadata": {},
     "output_type": "execute_result"
    }
   ],
   "source": [
    "T_i3 = T_phi*T_theta*T_psi\n",
    "T_i3.simplify()\n",
    "T_i3"
   ]
  },
  {
   "cell_type": "markdown",
   "metadata": {},
   "source": [
    "---"
   ]
  },
  {
   "cell_type": "markdown",
   "metadata": {},
   "source": [
    "##### **2. Calcule a velocidade angular do pião $_{\\mathscr{B}_2}\\omega$, no sistema $\\mathscr{B}_2$ coincidente com os eixos de simetria.**"
   ]
  },
  {
   "cell_type": "markdown",
   "metadata": {},
   "source": [
    "- **Velocidade angular do absoluta $\\omega$ do pião na base $\\mathscr{B}_2$**"
   ]
  },
  {
   "cell_type": "markdown",
   "metadata": {},
   "source": [
    "$$_{\\mathscr{I}}\\vec{\\dot{\\psi}} = \\begin{Bmatrix} 0 \\\\ 0 \\\\ \\dot{\\psi} \\end{Bmatrix} \\Rightarrow _{\\mathscr{B}_2}\\vec{\\dot{\\psi}} = T_\\theta T_\\psi {_{\\mathscr{I}}}\\vec{\\dot{\\psi}}$$"
   ]
  },
  {
   "cell_type": "code",
   "execution_count": 8,
   "metadata": {},
   "outputs": [
    {
     "data": {
      "text/latex": [
       "$\\displaystyle \\left[\\begin{matrix}0\\\\\\sin{\\left(\\theta{\\left(t \\right)} \\right)} \\frac{d}{d t} \\psi{\\left(t \\right)}\\\\\\cos{\\left(\\theta{\\left(t \\right)} \\right)} \\frac{d}{d t} \\psi{\\left(t \\right)}\\end{matrix}\\right]$"
      ],
      "text/plain": [
       "Matrix([\n",
       "[                                    0],\n",
       "[sin(\\theta(t))*Derivative(\\psi(t), t)],\n",
       "[cos(\\theta(t))*Derivative(\\psi(t), t)]])"
      ]
     },
     "execution_count": 8,
     "metadata": {},
     "output_type": "execute_result"
    }
   ],
   "source": [
    "psi_d_I = smp.Matrix([[0],[0],[psi_d]])\n",
    "psi_d_B2 = T_i2*psi_d_I\n",
    "psi_d_B2.simplify()\n",
    "psi_d_B2"
   ]
  },
  {
   "attachments": {},
   "cell_type": "markdown",
   "metadata": {},
   "source": [
    "$$_{\\mathscr{B}_1}\\vec{\\dot{\\theta}} = \\begin{Bmatrix} \\dot{\\theta} \\\\ 0 \\\\ 0 \\end{Bmatrix} \\Rightarrow _{\\mathscr{B}_2}\\vec{\\dot{\\theta}} = T_\\theta {_{\\mathscr{B}_1}}\\vec{\\dot{\\theta}}$$\n"
   ]
  },
  {
   "cell_type": "code",
   "execution_count": 9,
   "metadata": {},
   "outputs": [
    {
     "data": {
      "text/latex": [
       "$\\displaystyle \\left[\\begin{matrix}\\frac{d}{d t} \\theta{\\left(t \\right)}\\\\0\\\\0\\end{matrix}\\right]$"
      ],
      "text/plain": [
       "Matrix([\n",
       "[Derivative(\\theta(t), t)],\n",
       "[                       0],\n",
       "[                       0]])"
      ]
     },
     "execution_count": 9,
     "metadata": {},
     "output_type": "execute_result"
    }
   ],
   "source": [
    "theta_d_B1 = smp.Matrix([[theta_d],[0],[0]])\n",
    "theta_d_B2 = T_12*theta_d_B1\n",
    "theta_d_B2.simplify()\n",
    "theta_d_B2"
   ]
  },
  {
   "cell_type": "markdown",
   "metadata": {},
   "source": [
    "$$_{\\mathscr{B}_2}\\vec{\\dot{\\phi}} = \\begin{Bmatrix} 0 \\\\ 0 \\\\ \\dot{\\phi} \\end{Bmatrix}$$"
   ]
  },
  {
   "cell_type": "code",
   "execution_count": 10,
   "metadata": {},
   "outputs": [
    {
     "data": {
      "text/latex": [
       "$\\displaystyle \\left[\\begin{matrix}0\\\\0\\\\\\frac{d}{d t} \\phi{\\left(t \\right)}\\end{matrix}\\right]$"
      ],
      "text/plain": [
       "Matrix([\n",
       "[                     0],\n",
       "[                     0],\n",
       "[Derivative(\\phi(t), t)]])"
      ]
     },
     "execution_count": 10,
     "metadata": {},
     "output_type": "execute_result"
    }
   ],
   "source": [
    "phi_d_B2 = smp.Matrix([[0],[0],[phi_d]])\n",
    "phi_d_B2.simplify()\n",
    "phi_d_B2"
   ]
  },
  {
   "cell_type": "markdown",
   "metadata": {},
   "source": [
    "$$_{\\mathscr{B}_2}\\vec{\\omega} = _{\\mathscr{B}_2}\\vec{\\dot{\\psi}} + _{\\mathscr{B}_2}\\vec{\\dot{\\theta}} + _{\\mathscr{B}_2}\\vec{\\dot{\\phi}}$$"
   ]
  },
  {
   "cell_type": "code",
   "execution_count": 11,
   "metadata": {},
   "outputs": [
    {
     "data": {
      "text/latex": [
       "$\\displaystyle \\left[\\begin{matrix}\\frac{d}{d t} \\theta{\\left(t \\right)}\\\\\\sin{\\left(\\theta{\\left(t \\right)} \\right)} \\frac{d}{d t} \\psi{\\left(t \\right)}\\\\\\cos{\\left(\\theta{\\left(t \\right)} \\right)} \\frac{d}{d t} \\psi{\\left(t \\right)} + \\frac{d}{d t} \\phi{\\left(t \\right)}\\end{matrix}\\right]$"
      ],
      "text/plain": [
       "Matrix([\n",
       "[                                      Derivative(\\theta(t), t)],\n",
       "[                         sin(\\theta(t))*Derivative(\\psi(t), t)],\n",
       "[cos(\\theta(t))*Derivative(\\psi(t), t) + Derivative(\\phi(t), t)]])"
      ]
     },
     "execution_count": 11,
     "metadata": {},
     "output_type": "execute_result"
    }
   ],
   "source": [
    "omega_B2 = psi_d_B2 + theta_d_B2 + phi_d_B2\n",
    "omega_B2.simplify()\n",
    "omega_B2"
   ]
  },
  {
   "cell_type": "markdown",
   "metadata": {},
   "source": [
    "---"
   ]
  },
  {
   "attachments": {},
   "cell_type": "markdown",
   "metadata": {},
   "source": [
    "##### **3. Calcule a aceleração angular do pião, representando no sistema móvel coincidente com os eixos de simetria.**"
   ]
  },
  {
   "attachments": {},
   "cell_type": "markdown",
   "metadata": {},
   "source": [
    "- **Primeiro determina-se a velocidade angular absoluta $\\Omega$ do sistema de referência representado na base $\\mathscr{B}_2$.**"
   ]
  },
  {
   "cell_type": "markdown",
   "metadata": {},
   "source": [
    "$$_{\\mathscr{B}_2}\\vec{\\Omega} = _{\\mathscr{B}_2}\\vec{\\dot{\\psi}} + _{\\mathscr{B}_2}\\vec{\\dot{\\theta}}$$"
   ]
  },
  {
   "cell_type": "code",
   "execution_count": 12,
   "metadata": {},
   "outputs": [
    {
     "data": {
      "text/latex": [
       "$\\displaystyle \\left[\\begin{matrix}\\frac{d}{d t} \\theta{\\left(t \\right)}\\\\\\sin{\\left(\\theta{\\left(t \\right)} \\right)} \\frac{d}{d t} \\psi{\\left(t \\right)}\\\\\\cos{\\left(\\theta{\\left(t \\right)} \\right)} \\frac{d}{d t} \\psi{\\left(t \\right)}\\end{matrix}\\right]$"
      ],
      "text/plain": [
       "Matrix([\n",
       "[             Derivative(\\theta(t), t)],\n",
       "[sin(\\theta(t))*Derivative(\\psi(t), t)],\n",
       "[cos(\\theta(t))*Derivative(\\psi(t), t)]])"
      ]
     },
     "execution_count": 12,
     "metadata": {},
     "output_type": "execute_result"
    }
   ],
   "source": [
    "Omega_B2 = psi_d_B2 + theta_d_B2\n",
    "Omega_B2.simplify()\n",
    "Omega_B2"
   ]
  },
  {
   "attachments": {},
   "cell_type": "markdown",
   "metadata": {},
   "source": [
    "- **Posteriormente calcula-se a aceleração angular do pião representado na base $\\mathscr{B}_2$.**"
   ]
  },
  {
   "cell_type": "markdown",
   "metadata": {},
   "source": [
    "$$_{\\mathscr{B}_2}\\vec{\\dot{\\omega}} = \\frac{d}{dt}\\left(_{\\mathscr{B}_2}\\vec{\\omega}\\right) + _{\\mathscr{B}_2}\\vec{\\Omega} \\times _{\\mathscr{B}_2}\\vec{\\omega}$$"
   ]
  },
  {
   "cell_type": "code",
   "execution_count": 13,
   "metadata": {},
   "outputs": [
    {
     "data": {
      "text/latex": [
       "$\\displaystyle \\left[\\begin{matrix}\\sin{\\left(\\theta{\\left(t \\right)} \\right)} \\frac{d}{d t} \\phi{\\left(t \\right)} \\frac{d}{d t} \\psi{\\left(t \\right)} + \\frac{d^{2}}{d t^{2}} \\theta{\\left(t \\right)}\\\\\\sin{\\left(\\theta{\\left(t \\right)} \\right)} \\frac{d^{2}}{d t^{2}} \\psi{\\left(t \\right)} + \\cos{\\left(\\theta{\\left(t \\right)} \\right)} \\frac{d}{d t} \\psi{\\left(t \\right)} \\frac{d}{d t} \\theta{\\left(t \\right)} - \\frac{d}{d t} \\phi{\\left(t \\right)} \\frac{d}{d t} \\theta{\\left(t \\right)}\\\\- \\sin{\\left(\\theta{\\left(t \\right)} \\right)} \\frac{d}{d t} \\psi{\\left(t \\right)} \\frac{d}{d t} \\theta{\\left(t \\right)} + \\cos{\\left(\\theta{\\left(t \\right)} \\right)} \\frac{d^{2}}{d t^{2}} \\psi{\\left(t \\right)} + \\frac{d^{2}}{d t^{2}} \\phi{\\left(t \\right)}\\end{matrix}\\right]$"
      ],
      "text/plain": [
       "Matrix([\n",
       "[                                                                 sin(\\theta(t))*Derivative(\\phi(t), t)*Derivative(\\psi(t), t) + Derivative(\\theta(t), (t, 2))],\n",
       "[sin(\\theta(t))*Derivative(\\psi(t), (t, 2)) + cos(\\theta(t))*Derivative(\\psi(t), t)*Derivative(\\theta(t), t) - Derivative(\\phi(t), t)*Derivative(\\theta(t), t)],\n",
       "[                   -sin(\\theta(t))*Derivative(\\psi(t), t)*Derivative(\\theta(t), t) + cos(\\theta(t))*Derivative(\\psi(t), (t, 2)) + Derivative(\\phi(t), (t, 2))]])"
      ]
     },
     "execution_count": 13,
     "metadata": {},
     "output_type": "execute_result"
    }
   ],
   "source": [
    "omega_d_B2 = smp.diff(omega_B2,t) + Omega_B2.cross(omega_B2)\n",
    "omega_d_B2.simplify()\n",
    "omega_d_B2"
   ]
  },
  {
   "cell_type": "markdown",
   "metadata": {},
   "source": [
    "---"
   ]
  },
  {
   "cell_type": "markdown",
   "metadata": {},
   "source": [
    "##### **4. Calcule o momento angular do pião em torno do ponto $O$.**"
   ]
  },
  {
   "cell_type": "markdown",
   "metadata": {},
   "source": [
    "- **Para realizar esse cálculo primeiramente precisamos obter o tensor de inércia em relação ao ponto $O$ pelo Teorema dos Eixos Paralelos.**\n",
    "$$_{\\mathscr{B}_2}\\mathbb{I}_A = \\begin{bmatrix} I & 0 & 0\\\\ 0 & I & 0 \\\\ 0 & 0 & I_{z_2}\\end{bmatrix}$$\n",
    "$$_{\\mathscr{B}_2}\\mathbb{I}_O = _{\\mathscr{B}_2}\\mathbb{I}_A + \\begin{Bmatrix} m l^2\\\\ m l^2 \\\\ 0 \\end{Bmatrix}$$\n",
    "\n",
    "$$_{\\mathscr{B}_2}\\mathbb{I}_O = \\begin{bmatrix} I + m l^2 & 0 & 0\\\\ 0 & I + m l^2 & 0 \\\\ 0 & 0 & I_{z_2}\\end{bmatrix}$$"
   ]
  },
  {
   "cell_type": "markdown",
   "metadata": {},
   "source": [
    "- **Na sequência obtém-se a velocidade linear absoluta do ponto $A$.**\n",
    "\n",
    "$${_{\\mathscr{B}_2}}\\vec{V}_A = {_{\\mathscr{B}_2}}\\vec{V}_O + {_{\\mathscr{B}_2}}\\vec{\\Omega} \\times {_{\\mathscr{B}_2}}\\vec{r}_{OA} + {_{\\mathscr{B}_2}}\\vec{V}_{rel}$$\n",
    "$$\\vec{V}_O = 0$$\n",
    "$$\\vec{V}_{rel} = 0$$\n",
    "$${_{\\mathscr{B}_2}}\\vec{V}_A = {_{\\mathscr{B}_2}}\\vec{\\Omega} \\times {_{\\mathscr{B}_2}}\\vec{r}_{OA}$$"
   ]
  },
  {
   "cell_type": "code",
   "execution_count": 14,
   "metadata": {},
   "outputs": [
    {
     "data": {
      "text/latex": [
       "$\\displaystyle \\left[\\begin{matrix}l \\sin{\\left(\\theta{\\left(t \\right)} \\right)} \\frac{d}{d t} \\psi{\\left(t \\right)}\\\\- l \\frac{d}{d t} \\theta{\\left(t \\right)}\\\\0\\end{matrix}\\right]$"
      ],
      "text/plain": [
       "Matrix([\n",
       "[l*sin(\\theta(t))*Derivative(\\psi(t), t)],\n",
       "[            -l*Derivative(\\theta(t), t)],\n",
       "[                                      0]])"
      ]
     },
     "execution_count": 14,
     "metadata": {},
     "output_type": "execute_result"
    }
   ],
   "source": [
    "r_OA_B2 = smp.Matrix([[0],[0],[l]])\n",
    "V_a_B2 = Omega_B2.cross(r_OA_B2)\n",
    "V_a_B2.simplify()\n",
    "V_a_B2"
   ]
  },
  {
   "cell_type": "markdown",
   "metadata": {},
   "source": [
    "- **Calculando o momento angular do pião em torno do ponto $O$.**\n",
    "$${_{\\mathscr{B}_2}}\\mathscr{H}_O = _{\\mathscr{B}_2}\\mathbb{I}_O {_{\\mathscr{B}_2}}\\vec{\\omega} + m {_{\\mathscr{B}_2}}\\vec{r}_{OA} \\times {_{\\mathscr{B}_2}}\\vec{V}_O$$\n",
    "$$\\vec{V}_O = 0$$\n",
    "$${_{\\mathscr{B}_2}}\\mathscr{H}_O = _{\\mathscr{B}_2}\\mathbb{I}_O {_{\\mathscr{B}_2}}\\vec{\\omega}$$"
   ]
  },
  {
   "cell_type": "code",
   "execution_count": 15,
   "metadata": {},
   "outputs": [
    {
     "data": {
      "text/latex": [
       "$\\displaystyle \\left[\\begin{matrix}I_{xx} + l^{2} m & I_{xy} & I_{xz}\\\\I_{xy} & I_{yy} + l^{2} m & I_{yz}\\\\I_{xz} & I_{yz} & I_{zz}\\end{matrix}\\right]$"
      ],
      "text/plain": [
       "Matrix([\n",
       "[I_{xx} + l**2*m,          I_{xy}, I_{xz}],\n",
       "[         I_{xy}, I_{yy} + l**2*m, I_{yz}],\n",
       "[         I_{xz},          I_{yz}, I_{zz}]])"
      ]
     },
     "execution_count": 15,
     "metadata": {},
     "output_type": "execute_result"
    }
   ],
   "source": [
    "Ixx, Iyy, Izz, Ixy, Iyz, Ixz = smp.symbols('I_{xx}, I_{yy}, I_{zz}, I_{xy}, I_{yz}, I_{xz}', real=True)\n",
    "l, m = smp.symbols('l, m', real=True)\n",
    "\n",
    "# Ixx = I\n",
    "# Iyy = I\n",
    "# Izz = Iz2\n",
    "# Ixy = 0*I\n",
    "# Iyz = 0*I\n",
    "# Ixz = 0*I\n",
    "\n",
    "I_a_B2 = smp.Matrix([[Ixx,Ixy,Ixz],[Ixy,Iyy,Iyz],[Ixz,Iyz,Izz]])\n",
    "I_o_B2 = I_a_B2 + smp.Matrix([[m*l**2,0,0],[0,m*l**2,0],[0,0,0]])\n",
    "I_o_B2.simplify()\n",
    "I_o_B2"
   ]
  },
  {
   "cell_type": "code",
   "execution_count": 16,
   "metadata": {},
   "outputs": [
    {
     "data": {
      "text/latex": [
       "$\\displaystyle \\left[\\begin{matrix}I_{xy} \\sin{\\left(\\theta{\\left(t \\right)} \\right)} \\frac{d}{d t} \\psi{\\left(t \\right)} + I_{xz} \\left(\\cos{\\left(\\theta{\\left(t \\right)} \\right)} \\frac{d}{d t} \\psi{\\left(t \\right)} + \\frac{d}{d t} \\phi{\\left(t \\right)}\\right) + \\left(I_{xx} + l^{2} m\\right) \\frac{d}{d t} \\theta{\\left(t \\right)}\\\\I_{xy} \\frac{d}{d t} \\theta{\\left(t \\right)} + I_{yz} \\left(\\cos{\\left(\\theta{\\left(t \\right)} \\right)} \\frac{d}{d t} \\psi{\\left(t \\right)} + \\frac{d}{d t} \\phi{\\left(t \\right)}\\right) + \\left(I_{yy} + l^{2} m\\right) \\sin{\\left(\\theta{\\left(t \\right)} \\right)} \\frac{d}{d t} \\psi{\\left(t \\right)}\\\\I_{xz} \\frac{d}{d t} \\theta{\\left(t \\right)} + I_{yz} \\sin{\\left(\\theta{\\left(t \\right)} \\right)} \\frac{d}{d t} \\psi{\\left(t \\right)} + I_{zz} \\left(\\cos{\\left(\\theta{\\left(t \\right)} \\right)} \\frac{d}{d t} \\psi{\\left(t \\right)} + \\frac{d}{d t} \\phi{\\left(t \\right)}\\right)\\end{matrix}\\right]$"
      ],
      "text/plain": [
       "Matrix([\n",
       "[I_{xy}*sin(\\theta(t))*Derivative(\\psi(t), t) + I_{xz}*(cos(\\theta(t))*Derivative(\\psi(t), t) + Derivative(\\phi(t), t)) + (I_{xx} + l**2*m)*Derivative(\\theta(t), t)],\n",
       "[I_{xy}*Derivative(\\theta(t), t) + I_{yz}*(cos(\\theta(t))*Derivative(\\psi(t), t) + Derivative(\\phi(t), t)) + (I_{yy} + l**2*m)*sin(\\theta(t))*Derivative(\\psi(t), t)],\n",
       "[           I_{xz}*Derivative(\\theta(t), t) + I_{yz}*sin(\\theta(t))*Derivative(\\psi(t), t) + I_{zz}*(cos(\\theta(t))*Derivative(\\psi(t), t) + Derivative(\\phi(t), t))]])"
      ]
     },
     "execution_count": 16,
     "metadata": {},
     "output_type": "execute_result"
    }
   ],
   "source": [
    "H_o_B2 = I_o_B2*omega_B2\n",
    "H_o_B2.simplify()\n",
    "H_o_B2"
   ]
  },
  {
   "cell_type": "markdown",
   "metadata": {},
   "source": [
    "---"
   ]
  },
  {
   "attachments": {},
   "cell_type": "markdown",
   "metadata": {},
   "source": [
    "##### **5. Calcule a aceleração do centro de massa do pião.**\n",
    "\n",
    "$${_{\\mathscr{B}_2}}\\vec{A}_A = {_{\\mathscr{B}_2}}\\vec{A}_O + {_{\\mathscr{B}_2}}\\vec{\\Omega} \\times \\left({_{\\mathscr{B}_2}}\\vec{\\Omega} \\times {_{\\mathscr{B}_2}}\\vec{r}_{OA}\\right) + {_{\\mathscr{B}_2}}\\vec{\\dot{\\Omega}} \\times {_{\\mathscr{B}_2}}\\vec{r}_{OA} + 2{_{\\mathscr{B}_2}}\\vec{\\Omega} \\times {_{\\mathscr{B}_2}}\\vec{V}_{rel} + {_{\\mathscr{B}_2}}\\vec{A}_{rel}$$\n",
    "$$\\vec{A}_O = 0$$\n",
    "$$\\vec{V}_{rel} = 0$$\n",
    "$$\\vec{A}_{rel} = 0$$\n",
    "$${_{\\mathscr{B}_2}}\\vec{A}_A = {_{\\mathscr{B}_2}}\\vec{\\Omega} \\times \\left({_{\\mathscr{B}_2}}\\vec{\\Omega} \\times {_{\\mathscr{B}_2}}\\vec{r}_{OA}\\right) + {_{\\mathscr{B}_2}}\\vec{\\dot{\\Omega}} \\times {_{\\mathscr{B}_2}}\\vec{r}_{OA}$$"
   ]
  },
  {
   "cell_type": "code",
   "execution_count": 17,
   "metadata": {},
   "outputs": [
    {
     "data": {
      "text/latex": [
       "$\\displaystyle \\left[\\begin{matrix}l \\left(\\sin{\\left(\\theta{\\left(t \\right)} \\right)} \\frac{d^{2}}{d t^{2}} \\psi{\\left(t \\right)} + 2 \\cos{\\left(\\theta{\\left(t \\right)} \\right)} \\frac{d}{d t} \\psi{\\left(t \\right)} \\frac{d}{d t} \\theta{\\left(t \\right)}\\right)\\\\l \\left(\\frac{\\sin{\\left(2 \\theta{\\left(t \\right)} \\right)} \\left(\\frac{d}{d t} \\psi{\\left(t \\right)}\\right)^{2}}{2} - \\frac{d^{2}}{d t^{2}} \\theta{\\left(t \\right)}\\right)\\\\- l \\left(\\sin^{2}{\\left(\\theta{\\left(t \\right)} \\right)} \\left(\\frac{d}{d t} \\psi{\\left(t \\right)}\\right)^{2} + \\left(\\frac{d}{d t} \\theta{\\left(t \\right)}\\right)^{2}\\right)\\end{matrix}\\right]$"
      ],
      "text/plain": [
       "Matrix([\n",
       "[l*(sin(\\theta(t))*Derivative(\\psi(t), (t, 2)) + 2*cos(\\theta(t))*Derivative(\\psi(t), t)*Derivative(\\theta(t), t))],\n",
       "[                                 l*(sin(2*\\theta(t))*Derivative(\\psi(t), t)**2/2 - Derivative(\\theta(t), (t, 2)))],\n",
       "[                                   -l*(sin(\\theta(t))**2*Derivative(\\psi(t), t)**2 + Derivative(\\theta(t), t)**2)]])"
      ]
     },
     "execution_count": 17,
     "metadata": {},
     "output_type": "execute_result"
    }
   ],
   "source": [
    "Omega_d_B2 = smp.diff(Omega_B2,t)\n",
    "A_a_B2 = Omega_B2.cross(Omega_B2.cross(r_OA_B2)) + Omega_d_B2.cross(r_OA_B2)\n",
    "A_a_B2.simplify()\n",
    "A_a_B2"
   ]
  },
  {
   "cell_type": "markdown",
   "metadata": {},
   "source": [
    "---"
   ]
  },
  {
   "cell_type": "markdown",
   "metadata": {},
   "source": [
    "##### **6. Obtenha as equações de movimento usando o método de Newton-Euler.**"
   ]
  },
  {
   "cell_type": "markdown",
   "metadata": {},
   "source": [
    "- **A Figura 2 apresenta as reações de Newton do pião.**\n",
    "<p align=\"center\">\n",
    "  <img src=\"imgs/piaoReacao.png\" alt=\"drawing\" width=\"350\" align=\"center\"/>\n",
    "</p>\n",
    "<p align=\"center\">\n",
    "  Fig. 2 - DCL do pião.\n",
    "</p>"
   ]
  },
  {
   "cell_type": "markdown",
   "metadata": {},
   "source": [
    "- **Obtêm-se assim as Reações $R$ e $M$ e o Peso $P$ na forma vetorial na Base Inercial ${\\mathscr{I}}$ e tranforma-se para a Base Móvel ${\\mathscr{B}_2}$:**\n",
    "\n",
    "$${_{\\mathscr{I}}}\\vec{R} = \\begin{Bmatrix} R_x \\\\ R_y \\\\ R_z\\end{Bmatrix} \\Rightarrow {_{\\mathscr{B}_2}}\\vec{R} = T_{\\theta} T_{\\psi} {_{\\mathscr{I}}}\\vec{R}$$\n",
    "\n",
    "$${_{\\mathscr{I}}}\\vec{P} = \\begin{Bmatrix} 0 \\\\ 0 \\\\ -mg\\end{Bmatrix} \\Rightarrow {_{\\mathscr{B}_2}}\\vec{P} = T_{\\theta} T_{\\psi} {_{\\mathscr{I}}}\\vec{P}$$\n",
    "\n",
    "$${_{\\mathscr{B}_2}}\\vec{M} = \\begin{Bmatrix} 0 \\\\ 0 \\\\ M_z\\end{Bmatrix}$$"
   ]
  },
  {
   "cell_type": "code",
   "execution_count": 18,
   "metadata": {},
   "outputs": [
    {
     "data": {
      "text/latex": [
       "$\\displaystyle \\left[\\begin{matrix}R_{x} \\cos{\\left(\\psi{\\left(t \\right)} \\right)} + R_{y} \\sin{\\left(\\psi{\\left(t \\right)} \\right)}\\\\- R_{x} \\sin{\\left(\\psi{\\left(t \\right)} \\right)} \\cos{\\left(\\theta{\\left(t \\right)} \\right)} + R_{y} \\cos{\\left(\\psi{\\left(t \\right)} \\right)} \\cos{\\left(\\theta{\\left(t \\right)} \\right)} + R_{z} \\sin{\\left(\\theta{\\left(t \\right)} \\right)}\\\\R_{x} \\sin{\\left(\\psi{\\left(t \\right)} \\right)} \\sin{\\left(\\theta{\\left(t \\right)} \\right)} - R_{y} \\sin{\\left(\\theta{\\left(t \\right)} \\right)} \\cos{\\left(\\psi{\\left(t \\right)} \\right)} + R_{z} \\cos{\\left(\\theta{\\left(t \\right)} \\right)}\\end{matrix}\\right]$"
      ],
      "text/plain": [
       "Matrix([\n",
       "[                                                    R_x*cos(\\psi(t)) + R_y*sin(\\psi(t))],\n",
       "[-R_x*sin(\\psi(t))*cos(\\theta(t)) + R_y*cos(\\psi(t))*cos(\\theta(t)) + R_z*sin(\\theta(t))],\n",
       "[ R_x*sin(\\psi(t))*sin(\\theta(t)) - R_y*sin(\\theta(t))*cos(\\psi(t)) + R_z*cos(\\theta(t))]])"
      ]
     },
     "execution_count": 18,
     "metadata": {},
     "output_type": "execute_result"
    }
   ],
   "source": [
    "R_i = smp.Matrix([[Rx],[Ry],[Rz]])\n",
    "R_b2 = T_i2*R_i\n",
    "R_b2.simplify()\n",
    "R_b2"
   ]
  },
  {
   "cell_type": "code",
   "execution_count": 19,
   "metadata": {},
   "outputs": [
    {
     "data": {
      "text/latex": [
       "$\\displaystyle \\left[\\begin{matrix}0\\\\- g m \\sin{\\left(\\theta{\\left(t \\right)} \\right)}\\\\- g m \\cos{\\left(\\theta{\\left(t \\right)} \\right)}\\end{matrix}\\right]$"
      ],
      "text/plain": [
       "Matrix([\n",
       "[                  0],\n",
       "[-g*m*sin(\\theta(t))],\n",
       "[-g*m*cos(\\theta(t))]])"
      ]
     },
     "execution_count": 19,
     "metadata": {},
     "output_type": "execute_result"
    }
   ],
   "source": [
    "P_i = smp.Matrix([[0],[0],[-m*g]])\n",
    "P_b2 = T_i2*P_i\n",
    "P_b2.simplify()\n",
    "P_b2"
   ]
  },
  {
   "cell_type": "code",
   "execution_count": 20,
   "metadata": {},
   "outputs": [
    {
     "data": {
      "text/latex": [
       "$\\displaystyle \\left[\\begin{matrix}0\\\\0\\\\M_{z}\\end{matrix}\\right]$"
      ],
      "text/plain": [
       "Matrix([\n",
       "[  0],\n",
       "[  0],\n",
       "[M_z]])"
      ]
     },
     "execution_count": 20,
     "metadata": {},
     "output_type": "execute_result"
    }
   ],
   "source": [
    "M_b2 = smp.Matrix([[0],[0],[Mz]])\n",
    "M_b2.simplify()\n",
    "M_b2"
   ]
  },
  {
   "attachments": {},
   "cell_type": "markdown",
   "metadata": {},
   "source": [
    "- **Equações de Euler.**\n",
    "\n",
    "<!-- $$\n",
    "\\sum{\\vec{M}_O} = {_{\\mathscr{B}_2}}{\\mathbb{I}}_O\\frac{d}{dt}\\left({_{\\mathscr{B}_2}}\\vec{\\omega}\\right) + {_{\\mathscr{B}_2}}\\vec{\\Omega} \\times \\left({_{\\mathscr{B}_2}}{\\mathbb{I}}_O {_{\\mathscr{B}_2}}\\vec{\\omega}\\right) + {_{\\mathscr{B}_2}}\\vec{r}_{OA} \\times m {_{\\mathscr{B}_2}}\\vec{A}_O = {_{\\mathscr{B}_2}}\\vec{M} + {_{\\mathscr{B}_2}}\\vec{r}_{OA} \\times {_{\\mathscr{B}_2}}\\vec{P}\n",
    "$$ -->\n",
    "\n",
    "$$\\sum{\\vec{M}_O} = {_{\\mathscr{B}_2}}\\vec{\\dot{\\mathscr{H}}}_O = \\frac{d}{dt}\\left({_{\\mathscr{B}_2}}\\vec{\\mathscr{H}}_O\\right) + {_{\\mathscr{B}_2}}\\vec{\\Omega} \\times {_{\\mathscr{B}_2}}\\vec{\\mathscr{H}}_O$$\n",
    "$${_{\\mathscr{B}_2}}\\vec{M} + {_{\\mathscr{B}_2}}\\vec{r}_{OA} \\times {_{\\mathscr{B}_2}}\\vec{P} = \\frac{d}{dt}\\left({_{\\mathscr{B}_2}}\\vec{\\mathscr{H}}_O\\right) + {_{\\mathscr{B}_2}}\\vec{\\Omega} \\times {_{\\mathscr{B}_2}}\\vec{\\mathscr{H}}_O$$\n",
    "$${_{\\mathscr{B}_2}}\\vec{M} - \\frac{d}{dt}\\left({_{\\mathscr{B}_2}}\\vec{\\mathscr{H}}_O\\right) - {_{\\mathscr{B}_2}}\\vec{\\Omega} \\times {_{\\mathscr{B}_2}}\\vec{\\mathscr{H}}_O + {_{\\mathscr{B}_2}}\\vec{r}_{OA} \\times {_{\\mathscr{B}_2}}\\vec{P} = 0$$"
   ]
  },
  {
   "cell_type": "code",
   "execution_count": 21,
   "metadata": {},
   "outputs": [
    {
     "data": {
      "text/latex": [
       "$\\displaystyle \\left[\\begin{matrix}- I_{xx} \\frac{d^{2}}{d t^{2}} \\theta{\\left(t \\right)} - I_{xy} \\sin{\\left(\\theta{\\left(t \\right)} \\right)} \\frac{d^{2}}{d t^{2}} \\psi{\\left(t \\right)} - I_{xz} \\cos{\\left(\\theta{\\left(t \\right)} \\right)} \\frac{d^{2}}{d t^{2}} \\psi{\\left(t \\right)} - I_{xz} \\frac{d^{2}}{d t^{2}} \\phi{\\left(t \\right)} + \\frac{I_{yy} \\sin{\\left(2 \\theta{\\left(t \\right)} \\right)} \\left(\\frac{d}{d t} \\psi{\\left(t \\right)}\\right)^{2}}{2} + I_{yz} \\cos{\\left(\\theta{\\left(t \\right)} \\right)} \\frac{d}{d t} \\phi{\\left(t \\right)} \\frac{d}{d t} \\psi{\\left(t \\right)} + I_{yz} \\cos{\\left(2 \\theta{\\left(t \\right)} \\right)} \\left(\\frac{d}{d t} \\psi{\\left(t \\right)}\\right)^{2} - I_{zz} \\sin{\\left(\\theta{\\left(t \\right)} \\right)} \\frac{d}{d t} \\phi{\\left(t \\right)} \\frac{d}{d t} \\psi{\\left(t \\right)} - \\frac{I_{zz} \\sin{\\left(2 \\theta{\\left(t \\right)} \\right)} \\left(\\frac{d}{d t} \\psi{\\left(t \\right)}\\right)^{2}}{2} + g l m \\sin{\\left(\\theta{\\left(t \\right)} \\right)} + \\frac{l^{2} m \\sin{\\left(2 \\theta{\\left(t \\right)} \\right)} \\left(\\frac{d}{d t} \\psi{\\left(t \\right)}\\right)^{2}}{2} - l^{2} m \\frac{d^{2}}{d t^{2}} \\theta{\\left(t \\right)}\\\\- I_{xy} \\frac{d^{2}}{d t^{2}} \\theta{\\left(t \\right)} - I_{yz} \\left(- \\sin{\\left(\\theta{\\left(t \\right)} \\right)} \\frac{d}{d t} \\psi{\\left(t \\right)} \\frac{d}{d t} \\theta{\\left(t \\right)} + \\cos{\\left(\\theta{\\left(t \\right)} \\right)} \\frac{d^{2}}{d t^{2}} \\psi{\\left(t \\right)} + \\frac{d^{2}}{d t^{2}} \\phi{\\left(t \\right)}\\right) - \\left(I_{yy} + l^{2} m\\right) \\sin{\\left(\\theta{\\left(t \\right)} \\right)} \\frac{d^{2}}{d t^{2}} \\psi{\\left(t \\right)} - \\left(I_{yy} + l^{2} m\\right) \\cos{\\left(\\theta{\\left(t \\right)} \\right)} \\frac{d}{d t} \\psi{\\left(t \\right)} \\frac{d}{d t} \\theta{\\left(t \\right)} + \\left(I_{xz} \\frac{d}{d t} \\theta{\\left(t \\right)} + I_{yz} \\sin{\\left(\\theta{\\left(t \\right)} \\right)} \\frac{d}{d t} \\psi{\\left(t \\right)} + I_{zz} \\left(\\cos{\\left(\\theta{\\left(t \\right)} \\right)} \\frac{d}{d t} \\psi{\\left(t \\right)} + \\frac{d}{d t} \\phi{\\left(t \\right)}\\right)\\right) \\frac{d}{d t} \\theta{\\left(t \\right)} - \\left(I_{xy} \\sin{\\left(\\theta{\\left(t \\right)} \\right)} \\frac{d}{d t} \\psi{\\left(t \\right)} + I_{xz} \\left(\\cos{\\left(\\theta{\\left(t \\right)} \\right)} \\frac{d}{d t} \\psi{\\left(t \\right)} + \\frac{d}{d t} \\phi{\\left(t \\right)}\\right) + \\left(I_{xx} + l^{2} m\\right) \\frac{d}{d t} \\theta{\\left(t \\right)}\\right) \\cos{\\left(\\theta{\\left(t \\right)} \\right)} \\frac{d}{d t} \\psi{\\left(t \\right)}\\\\- I_{xz} \\frac{d^{2}}{d t^{2}} \\theta{\\left(t \\right)} - I_{yz} \\sin{\\left(\\theta{\\left(t \\right)} \\right)} \\frac{d^{2}}{d t^{2}} \\psi{\\left(t \\right)} - I_{yz} \\cos{\\left(\\theta{\\left(t \\right)} \\right)} \\frac{d}{d t} \\psi{\\left(t \\right)} \\frac{d}{d t} \\theta{\\left(t \\right)} - I_{zz} \\left(- \\sin{\\left(\\theta{\\left(t \\right)} \\right)} \\frac{d}{d t} \\psi{\\left(t \\right)} \\frac{d}{d t} \\theta{\\left(t \\right)} + \\cos{\\left(\\theta{\\left(t \\right)} \\right)} \\frac{d^{2}}{d t^{2}} \\psi{\\left(t \\right)} + \\frac{d^{2}}{d t^{2}} \\phi{\\left(t \\right)}\\right) + M_{z} - \\left(I_{xy} \\frac{d}{d t} \\theta{\\left(t \\right)} + I_{yz} \\left(\\cos{\\left(\\theta{\\left(t \\right)} \\right)} \\frac{d}{d t} \\psi{\\left(t \\right)} + \\frac{d}{d t} \\phi{\\left(t \\right)}\\right) + \\left(I_{yy} + l^{2} m\\right) \\sin{\\left(\\theta{\\left(t \\right)} \\right)} \\frac{d}{d t} \\psi{\\left(t \\right)}\\right) \\frac{d}{d t} \\theta{\\left(t \\right)} + \\left(I_{xy} \\sin{\\left(\\theta{\\left(t \\right)} \\right)} \\frac{d}{d t} \\psi{\\left(t \\right)} + I_{xz} \\left(\\cos{\\left(\\theta{\\left(t \\right)} \\right)} \\frac{d}{d t} \\psi{\\left(t \\right)} + \\frac{d}{d t} \\phi{\\left(t \\right)}\\right) + \\left(I_{xx} + l^{2} m\\right) \\frac{d}{d t} \\theta{\\left(t \\right)}\\right) \\sin{\\left(\\theta{\\left(t \\right)} \\right)} \\frac{d}{d t} \\psi{\\left(t \\right)}\\end{matrix}\\right]$"
      ],
      "text/plain": [
       "Matrix([\n",
       "[                                                                                                                               -I_{xx}*Derivative(\\theta(t), (t, 2)) - I_{xy}*sin(\\theta(t))*Derivative(\\psi(t), (t, 2)) - I_{xz}*cos(\\theta(t))*Derivative(\\psi(t), (t, 2)) - I_{xz}*Derivative(\\phi(t), (t, 2)) + I_{yy}*sin(2*\\theta(t))*Derivative(\\psi(t), t)**2/2 + I_{yz}*cos(\\theta(t))*Derivative(\\phi(t), t)*Derivative(\\psi(t), t) + I_{yz}*cos(2*\\theta(t))*Derivative(\\psi(t), t)**2 - I_{zz}*sin(\\theta(t))*Derivative(\\phi(t), t)*Derivative(\\psi(t), t) - I_{zz}*sin(2*\\theta(t))*Derivative(\\psi(t), t)**2/2 + g*l*m*sin(\\theta(t)) + l**2*m*sin(2*\\theta(t))*Derivative(\\psi(t), t)**2/2 - l**2*m*Derivative(\\theta(t), (t, 2))],\n",
       "[-I_{xy}*Derivative(\\theta(t), (t, 2)) - I_{yz}*(-sin(\\theta(t))*Derivative(\\psi(t), t)*Derivative(\\theta(t), t) + cos(\\theta(t))*Derivative(\\psi(t), (t, 2)) + Derivative(\\phi(t), (t, 2))) - (I_{yy} + l**2*m)*sin(\\theta(t))*Derivative(\\psi(t), (t, 2)) - (I_{yy} + l**2*m)*cos(\\theta(t))*Derivative(\\psi(t), t)*Derivative(\\theta(t), t) + (I_{xz}*Derivative(\\theta(t), t) + I_{yz}*sin(\\theta(t))*Derivative(\\psi(t), t) + I_{zz}*(cos(\\theta(t))*Derivative(\\psi(t), t) + Derivative(\\phi(t), t)))*Derivative(\\theta(t), t) - (I_{xy}*sin(\\theta(t))*Derivative(\\psi(t), t) + I_{xz}*(cos(\\theta(t))*Derivative(\\psi(t), t) + Derivative(\\phi(t), t)) + (I_{xx} + l**2*m)*Derivative(\\theta(t), t))*cos(\\theta(t))*Derivative(\\psi(t), t)],\n",
       "[     -I_{xz}*Derivative(\\theta(t), (t, 2)) - I_{yz}*sin(\\theta(t))*Derivative(\\psi(t), (t, 2)) - I_{yz}*cos(\\theta(t))*Derivative(\\psi(t), t)*Derivative(\\theta(t), t) - I_{zz}*(-sin(\\theta(t))*Derivative(\\psi(t), t)*Derivative(\\theta(t), t) + cos(\\theta(t))*Derivative(\\psi(t), (t, 2)) + Derivative(\\phi(t), (t, 2))) + M_z - (I_{xy}*Derivative(\\theta(t), t) + I_{yz}*(cos(\\theta(t))*Derivative(\\psi(t), t) + Derivative(\\phi(t), t)) + (I_{yy} + l**2*m)*sin(\\theta(t))*Derivative(\\psi(t), t))*Derivative(\\theta(t), t) + (I_{xy}*sin(\\theta(t))*Derivative(\\psi(t), t) + I_{xz}*(cos(\\theta(t))*Derivative(\\psi(t), t) + Derivative(\\phi(t), t)) + (I_{xx} + l**2*m)*Derivative(\\theta(t), t))*sin(\\theta(t))*Derivative(\\psi(t), t)]])"
      ]
     },
     "execution_count": 21,
     "metadata": {},
     "output_type": "execute_result"
    }
   ],
   "source": [
    "H_o_d_B2 = smp.diff(H_o_B2,t) + Omega_B2.cross(H_o_B2)\n",
    "eulers = smp.simplify(M_b2 - H_o_d_B2 + r_OA_B2.cross(P_b2))\n",
    "eulers_sols = smp.solve([eulers[0], eulers[1], eulers[2]], (theta_dd, psi_dd, phi_dd), simplify=False, rational=False)\n",
    "eulers"
   ]
  },
  {
   "cell_type": "markdown",
   "metadata": {},
   "source": [
    "- **Com essas equações, primeiramente já se pode isolar $\\ddot{\\theta}$ na primeira equação. Na sequência pode-se isolar $\\ddot{\\psi}$ na segunda equação. E por último isola-se $\\ddot{\\phi}$ na terceira equação substituindo o valor respectivo a $\\ddot{\\psi}$. Obtêm-se assim as Equações de Movimento:**\n",
    "    - **Precessão**\n",
    "    $$\n",
    "    \\ddot{\\psi} = \\frac{\\dot{\\theta}}{\\sin\\theta(I_{xx} + ml^2)}\\left\\{\\dot{\\psi}\\cos\\theta\\left[I_{zz} - I_{xx} - I_{yy} - 2ml^2\\right] + \\dot{\\phi}I_{zz}\\right\\}\n",
    "    $$\n",
    "    - **Nutação**\n",
    "    $$\n",
    "    \\ddot{\\theta} = \\frac{\\sin\\theta}{(I_{xx} + ml^2)}\\left\\{mgl + \\dot{\\psi}\\left[\\dot{\\psi}\\cos\\theta\\left(I_{yy} - I_{zz} + ml^2\\right) - \\dot{\\phi}I_{zz}\\right]\\right\\}\n",
    "    $$\n",
    "    - ***Spin***\n",
    "    $$\n",
    "    \\ddot{\\phi} = \\frac{\\dot{\\theta}}{\\tan\\theta(I_{yy} + ml^2)}\\left[\\dot{\\psi}\\cos\\theta\\left(I_{xx} + I_{yy} - I_{zz} + 2ml^2\\right) - \\dot{\\phi}I_{zz}\\right] + \\frac{1}{I_{zz}}\\left[M_z + \\dot{\\psi}\\dot{\\theta}\\sin\\theta\\left(I_{xx} - I_{yy} + I_{zz}\\right)\\right]\n",
    "    $$\n",
    "\n",
    "- **Substituindo os valores das inércias, obtemos:**\n",
    "    - **Precessão**\n",
    "    $$\n",
    "    \\ddot{\\psi} = \\frac{\\dot{\\theta}}{\\sin\\theta(I + ml^2)}\\left\\{\\dot{\\psi}\\cos\\theta\\left[I_{z_2} - 2\\left(I + ml^2\\right)\\right] + \\dot{\\phi}I_{z_2}\\right\\}\n",
    "    $$\n",
    "    - **Nutação**\n",
    "    $$\n",
    "    \\ddot{\\theta} = \\frac{\\sin\\theta}{(I + ml^2)}\\left\\{mgl + \\dot{\\psi}^2\\cos\\theta\\left[I + ml^2 - I_{z_2}\\right] - \\dot{\\psi}\\dot{\\phi}I_{z_2}\\right\\}\n",
    "    $$\n",
    "    - ***Spin***\n",
    "    $$\n",
    "    \\ddot{\\phi} = \\frac{\\dot{\\theta}}{\\tan\\theta(I + ml^2)}\\left\\{\\dot{\\psi}\\cos\\theta\\left[2\\left(I + ml^2\\right)\\right] - I_{z_2}\\left[\\dot{\\psi}\\cos\\theta  +\\dot{\\phi}\\right]\\right\\} + \\dot{\\psi}\\dot{\\theta}\\sin\\theta + \\frac{M_z}{I_{z_2}}\n",
    "    $$"
   ]
  },
  {
   "cell_type": "markdown",
   "metadata": {},
   "source": [
    "---"
   ]
  },
  {
   "cell_type": "markdown",
   "metadata": {},
   "source": [
    "##### **7. Organize as equações de Newton-Euler em um sistema algébrico e diferencial e discuta se é possível desacoplar as equações de movimento das equações para cálculo das reações dinâmicas? Verifique e discuta o que aconteceria se fosse calculado assumindo o pólo em $A$ em vez de $O$.**"
   ]
  },
  {
   "attachments": {},
   "cell_type": "markdown",
   "metadata": {},
   "source": [
    "- **Pela 2ᵃ Lei de Newton, podemos obter o seguinte sistema.**\n",
    "\n",
    "$$\\sum{{_{\\mathscr{B}_2}}\\vec{F}} = m\\,{_{\\mathscr{B}_2}}\\vec{A}_A = {_{\\mathscr{B}_2}}\\vec{P} + {_{\\mathscr{B}_2}}\\vec{R}$$\n",
    "$$m \\, {_{\\mathscr{B}_2}}\\vec{A}_A = {_{\\mathscr{B}_2}}\\vec{P} + T_\\theta T_\\psi {_\\mathscr{I}}\\vec{R}$$\n",
    "$$T_\\theta T_\\psi {_\\mathscr{I}}\\vec{R} = m \\, {_{\\mathscr{B}_2}}\\vec{A}_A - {_{\\mathscr{B}_2}}\\vec{P}$$\n",
    "$${_\\mathscr{I}}\\vec{R} = T_\\theta^T T_\\psi^T \\left(m \\, {_{\\mathscr{B}_2}}\\vec{A}_A - {_{\\mathscr{B}_2}}\\vec{P}\\right)$$"
   ]
  },
  {
   "cell_type": "code",
   "execution_count": 22,
   "metadata": {},
   "outputs": [
    {
     "data": {
      "text/latex": [
       "$\\displaystyle \\left[\\begin{matrix}\\frac{m \\left(2 l \\left(\\sin{\\left(\\theta{\\left(t \\right)} \\right)} \\frac{d^{2}}{d t^{2}} \\psi{\\left(t \\right)} + 2 \\cos{\\left(\\theta{\\left(t \\right)} \\right)} \\frac{d}{d t} \\psi{\\left(t \\right)} \\frac{d}{d t} \\theta{\\left(t \\right)}\\right) \\cos{\\left(\\psi{\\left(t \\right)} \\right)} - \\left(2 g \\sin{\\left(\\theta{\\left(t \\right)} \\right)} + l \\left(\\sin{\\left(2 \\theta{\\left(t \\right)} \\right)} \\left(\\frac{d}{d t} \\psi{\\left(t \\right)}\\right)^{2} - 2 \\frac{d^{2}}{d t^{2}} \\theta{\\left(t \\right)}\\right)\\right) \\sin{\\left(\\psi{\\left(t \\right)} \\right)}\\right)}{2}\\\\\\frac{m \\left(2 l \\left(\\sin{\\left(\\theta{\\left(t \\right)} \\right)} \\frac{d^{2}}{d t^{2}} \\psi{\\left(t \\right)} + 2 \\cos{\\left(\\theta{\\left(t \\right)} \\right)} \\frac{d}{d t} \\psi{\\left(t \\right)} \\frac{d}{d t} \\theta{\\left(t \\right)}\\right) \\sin{\\left(\\psi{\\left(t \\right)} \\right)} \\cos{\\left(\\theta{\\left(t \\right)} \\right)} + \\left(2 g \\sin{\\left(\\theta{\\left(t \\right)} \\right)} + l \\left(\\sin{\\left(2 \\theta{\\left(t \\right)} \\right)} \\left(\\frac{d}{d t} \\psi{\\left(t \\right)}\\right)^{2} - 2 \\frac{d^{2}}{d t^{2}} \\theta{\\left(t \\right)}\\right)\\right) \\cos{\\left(\\psi{\\left(t \\right)} \\right)} \\cos{\\left(\\theta{\\left(t \\right)} \\right)} - 2 \\left(g \\cos{\\left(\\theta{\\left(t \\right)} \\right)} - l \\left(\\sin^{2}{\\left(\\theta{\\left(t \\right)} \\right)} \\left(\\frac{d}{d t} \\psi{\\left(t \\right)}\\right)^{2} + \\left(\\frac{d}{d t} \\theta{\\left(t \\right)}\\right)^{2}\\right)\\right) \\sin{\\left(\\theta{\\left(t \\right)} \\right)}\\right)}{2}\\\\\\frac{m \\left(2 l \\left(\\sin{\\left(\\theta{\\left(t \\right)} \\right)} \\frac{d^{2}}{d t^{2}} \\psi{\\left(t \\right)} + 2 \\cos{\\left(\\theta{\\left(t \\right)} \\right)} \\frac{d}{d t} \\psi{\\left(t \\right)} \\frac{d}{d t} \\theta{\\left(t \\right)}\\right) \\sin{\\left(\\psi{\\left(t \\right)} \\right)} \\sin{\\left(\\theta{\\left(t \\right)} \\right)} + \\left(2 g \\sin{\\left(\\theta{\\left(t \\right)} \\right)} + l \\left(\\sin{\\left(2 \\theta{\\left(t \\right)} \\right)} \\left(\\frac{d}{d t} \\psi{\\left(t \\right)}\\right)^{2} - 2 \\frac{d^{2}}{d t^{2}} \\theta{\\left(t \\right)}\\right)\\right) \\sin{\\left(\\theta{\\left(t \\right)} \\right)} \\cos{\\left(\\psi{\\left(t \\right)} \\right)} + 2 \\left(g \\cos{\\left(\\theta{\\left(t \\right)} \\right)} - l \\left(\\sin^{2}{\\left(\\theta{\\left(t \\right)} \\right)} \\left(\\frac{d}{d t} \\psi{\\left(t \\right)}\\right)^{2} + \\left(\\frac{d}{d t} \\theta{\\left(t \\right)}\\right)^{2}\\right)\\right) \\cos{\\left(\\theta{\\left(t \\right)} \\right)}\\right)}{2}\\end{matrix}\\right]$"
      ],
      "text/plain": [
       "Matrix([\n",
       "[                                                                                                                                                    m*(2*l*(sin(\\theta(t))*Derivative(\\psi(t), (t, 2)) + 2*cos(\\theta(t))*Derivative(\\psi(t), t)*Derivative(\\theta(t), t))*cos(\\psi(t)) - (2*g*sin(\\theta(t)) + l*(sin(2*\\theta(t))*Derivative(\\psi(t), t)**2 - 2*Derivative(\\theta(t), (t, 2))))*sin(\\psi(t)))/2],\n",
       "[m*(2*l*(sin(\\theta(t))*Derivative(\\psi(t), (t, 2)) + 2*cos(\\theta(t))*Derivative(\\psi(t), t)*Derivative(\\theta(t), t))*sin(\\psi(t))*cos(\\theta(t)) + (2*g*sin(\\theta(t)) + l*(sin(2*\\theta(t))*Derivative(\\psi(t), t)**2 - 2*Derivative(\\theta(t), (t, 2))))*cos(\\psi(t))*cos(\\theta(t)) - 2*(g*cos(\\theta(t)) - l*(sin(\\theta(t))**2*Derivative(\\psi(t), t)**2 + Derivative(\\theta(t), t)**2))*sin(\\theta(t)))/2],\n",
       "[m*(2*l*(sin(\\theta(t))*Derivative(\\psi(t), (t, 2)) + 2*cos(\\theta(t))*Derivative(\\psi(t), t)*Derivative(\\theta(t), t))*sin(\\psi(t))*sin(\\theta(t)) + (2*g*sin(\\theta(t)) + l*(sin(2*\\theta(t))*Derivative(\\psi(t), t)**2 - 2*Derivative(\\theta(t), (t, 2))))*sin(\\theta(t))*cos(\\psi(t)) + 2*(g*cos(\\theta(t)) - l*(sin(\\theta(t))**2*Derivative(\\psi(t), t)**2 + Derivative(\\theta(t), t)**2))*cos(\\theta(t)))/2]])"
      ]
     },
     "execution_count": 22,
     "metadata": {},
     "output_type": "execute_result"
    }
   ],
   "source": [
    "R = smp.simplify(T_theta.T * T_psi.T * (m*A_a_B2 - P_b2))\n",
    "Rx = R[0]\n",
    "Ry = R[1]\n",
    "Rz = R[2]\n",
    "R"
   ]
  },
  {
   "cell_type": "markdown",
   "metadata": {},
   "source": [
    "---"
   ]
  },
  {
   "cell_type": "markdown",
   "metadata": {},
   "source": [
    "##### **8. Integre as equação de movimento, use para simulação os dados: $m = 0.02~\\textrm{kg}$, $l = 0.05~\\textrm{m}$, $I = 1~\\textrm{kg.m}^2$, $I_{z_2} = 2I$. Como momento aplicado no pião no eixo $z_2$ assuma $M_z = -0.001~\\textrm{N.m}$; como condições iniciais dos ângulos considere que a precessão inicial em rad é $\\psi(0) = 0$, ângulo inicial de nutação é $\\theta(0) = 5\\frac{\\pi}{180}$ rad, e o ângulo inicial de *spin* é $\\phi(0) = 0$. Já como velocidades considere que a velocidade inicial de precessão é nula; velocidade de nutação é nula e que a velocidade de *spin* inicial é $\\dot{\\phi}(0) = 14\\pi~\\textrm{rad/s}$.**"
   ]
  },
  {
   "cell_type": "markdown",
   "metadata": {},
   "source": [
    "- **Conforme apresentado anteriormente, tem-se em mãos três equações diferenciais de segunda ordem referentes aos ângulos de Euler:**\n",
    "\n",
    "$$\\ddot{\\theta} = f_1(\\theta, \\psi, \\phi, \\dot{\\theta}, \\dot{\\psi}, \\dot{\\phi})$$\n",
    "$$\\ddot{\\psi} = f_2(\\theta, \\psi, \\phi, \\dot{\\theta}, \\dot{\\psi}, \\dot{\\phi})$$\n",
    "$$\\ddot{\\phi} = f_3(\\theta, \\psi, \\phi, \\dot{\\theta}, \\dot{\\psi}, \\dot{\\phi})$$\n",
    "\n",
    "- **Porém o Python só consegue lidar com ODEs de primeiro ordem. Dessa forma, trabalha-se com Espaço de Estados. Definindo $z_1 = \\dot{\\theta}$, $z_2 = \\dot{\\psi}$ and $z_3 = \\dot{\\phi}$, obtêm-se 6 ODEs de primeira ordem:**\n",
    "\n",
    "  - $\\dot{\\theta} =z_1$\n",
    "  - $\\dot{z_1} = f_1(\\theta, \\psi, \\phi, z_1, z_2, z_3)$\n",
    "  - $\\dot{\\psi} =z_2$\n",
    "  - $\\dot{z_2} = f_2(\\theta, \\psi, \\phi, z_1, z_2, z_3)$\n",
    "  - $\\dot{\\phi} =z_3$\n",
    "  - $\\dot{z_3} = f_3(\\theta, \\psi, \\phi, z_1, z_2, z_3)$"
   ]
  },
  {
   "cell_type": "markdown",
   "metadata": {},
   "source": [
    "- **Convertendo as funções simbólicas do SymPy para funções numéricas típicas de Python, obtêm-se:**"
   ]
  },
  {
   "cell_type": "code",
   "execution_count": 23,
   "metadata": {},
   "outputs": [],
   "source": [
    "dz1_dt = smp.lambdify((m,g,l,Ixx,Iyy,Izz,Ixy,Iyz,Ixz,Mz,theta,psi,phi,theta_d,psi_d,phi_d), eulers_sols[theta_dd])\n",
    "dtheta_dt = smp.lambdify(theta_d, theta_d)\n",
    "\n",
    "dz2_dt = smp.lambdify((m,g,l,Ixx,Iyy,Izz,Ixy,Iyz,Ixz,Mz,theta,psi,phi,theta_d,psi_d,phi_d), eulers_sols[psi_dd])\n",
    "dpsi_dt = smp.lambdify(psi_d, psi_d)\n",
    "\n",
    "dz3_dt = smp.lambdify((m,g,l,Ixx,Iyy,Izz,Ixy,Iyz,Ixz,Mz,theta,psi,phi,theta_d,psi_d,phi_d), eulers_sols[phi_dd])\n",
    "dphi_dt = smp.lambdify(phi_d, phi_d)"
   ]
  },
  {
   "cell_type": "markdown",
   "metadata": {},
   "source": [
    "- **Definindo o sistema de equações a ser integrado.**"
   ]
  },
  {
   "cell_type": "code",
   "execution_count": 24,
   "metadata": {},
   "outputs": [],
   "source": [
    "def piao(z,t,m,g,l,Ixx,Iyy,Izz,Ixy,Iyz,Ixz,Mz):\n",
    "    theta, z1, psi, z2, phi, z3 = z\n",
    "    dzdt = [dtheta_dt(z1),\n",
    "            dz1_dt(m,g,l,Ixx,Iyy,Izz,Ixy,Iyz,Ixz,Mz,theta,psi,phi,z1,z2,z3),\n",
    "            dpsi_dt(z2),\n",
    "            dz2_dt(m,g,l,Ixx,Iyy,Izz,Ixy,Iyz,Ixz,Mz,theta,psi,phi,z1,z2,z3),\n",
    "            dphi_dt(z3),\n",
    "            dz3_dt(m,g,l,Ixx,Iyy,Izz,Ixy,Iyz,Ixz,Mz,theta,psi,phi,z1,z2,z3)\n",
    "            ]\n",
    "    return dzdt"
   ]
  },
  {
   "cell_type": "markdown",
   "metadata": {},
   "source": [
    "- **Definindo os parâmetros de integração e integrando via `odeint`.**"
   ]
  },
  {
   "cell_type": "code",
   "execution_count": 25,
   "metadata": {},
   "outputs": [
    {
     "name": "stdout",
     "output_type": "stream",
     "text": [
      "Piao Classico v1\n"
     ]
    }
   ],
   "source": [
    "# Funções para integração - Tipos de pião\n",
    "def dadosIntegracao(option):\n",
    "    if option == 'Piao Classico v1':\n",
    "        m = 0.01            # [kg]\n",
    "        l = 0.05            # [m]\n",
    "        g = 9.81            # [m/s^2]\n",
    "        Ixx = 1             # [kg.m^2]\n",
    "        Iyy = 1             # [kg.m^2]\n",
    "        Izz = 2             # [kg.m^2]\n",
    "        Ixy = 0             # [kg.m^2]\n",
    "        Iyz = 0             # [kg.m^2]\n",
    "        Ixz = 0             # [kg.m^2]\n",
    "        Mz = -0.001         # [N.m]\n",
    "        theta0 = 5*np.pi/180  # [rad]\n",
    "        psi0 = 0            # [rad]\n",
    "        phi0 = 0            # [rad]\n",
    "        theta0_d = 0        # [rad/s]\n",
    "        psi0_d = 0          # [rad/s]\n",
    "        phi0_d = 14*np.pi   # [rad/s]\n",
    "        return m, g, l, Ixx, Iyy, Izz, Ixy, Iyz, Ixz, Mz, theta0, psi0, phi0, theta0_d, psi0_d, phi0_d;\n",
    "    elif option == 'Piao Classico v2':\n",
    "        m = 0.01            # [kg]\n",
    "        l = 0.05            # [m]\n",
    "        g = 9.81            # [m/s^2]\n",
    "        Ixx = 1             # [kg.m^2]\n",
    "        Iyy = 1             # [kg.m^2]\n",
    "        Izz = 2             # [kg.m^2]\n",
    "        Ixy = 0             # [kg.m^2]\n",
    "        Iyz = 0             # [kg.m^2]\n",
    "        Ixz = 0             # [kg.m^2]\n",
    "        Mz = -0.001         # [N.m]\n",
    "        theta0 = 30*np.pi/180  # [rad]\n",
    "        psi0 = 0            # [rad]\n",
    "        phi0 = 0            # [rad]\n",
    "        theta0_d = 10*np.pi  # [rad/s]\n",
    "        psi0_d = 0          # [rad/s]\n",
    "        phi0_d = 5*np.pi   # [rad/s]\n",
    "        return m, g, l, Ixx, Iyy, Izz, Ixy, Iyz, Ixz, Mz, theta0, psi0, phi0, theta0_d, psi0_d, phi0_d;\n",
    "    elif option == 'Piao Totem':\n",
    "        m = 7.85*1E-3       # [kg] - Aluminium\n",
    "        l = 0.0991*1E-3     # [m]\n",
    "        g = 9.81            # [m/s^2]\n",
    "        Ixx = 319.8274*1E-9 # [kg.m^2]\n",
    "        Iyy = 319.8275*1E-9 # [kg.m^2]\n",
    "        Izz = 407.9871*1E-9 # [kg.m^2]\n",
    "        Ixy = 0.0001*1E-9   # [kg.m^2]\n",
    "        Iyz = 0             # [kg.m^2]\n",
    "        Ixz = 0             # [kg.m^2]\n",
    "        Mz = -1E-6          # [N.m]\n",
    "        theta0 = 30*np.pi/180  # [rad]\n",
    "        psi0 = 0            # [rad]\n",
    "        phi0 = 0            # [rad]\n",
    "        theta0_d = 10*np.pi  # [rad/s]\n",
    "        psi0_d = 0          # [rad/s]\n",
    "        phi0_d = 5*np.pi   # [rad/s]\n",
    "        return m, g, l, Ixx, Iyy, Izz, Ixy, Iyz, Ixz, Mz, theta0, psi0, phi0, theta0_d, psi0_d, phi0_d;\n",
    "    elif option == 'Piao Saia':\n",
    "        m = 4.77*1E-3           # [kg] - Madeira, Carvalho\n",
    "        l = 71.304*1E-3         # [m]\n",
    "        g = 9.81                # [m/s^2]\n",
    "        Ixx = 1154731.2088*1E-9 # [kg.m^2]\n",
    "        Iyy = 1154729.3608*1E-9 # [kg.m^2]\n",
    "        Izz = 1076730.879*1E-9  # [kg.m^2]\n",
    "        Ixy = -2.8642*1E-9      # [kg.m^2]\n",
    "        Iyz = 0.0499*1E-9       # [kg.m^2]\n",
    "        Ixz = -0.0372*1E-9      # [kg.m^2]\n",
    "        Mz = -1E-6              # [N.m]\n",
    "        theta0 = 30*np.pi/180  # [rad]\n",
    "        psi0 = 0            # [rad]\n",
    "        phi0 = 0            # [rad]\n",
    "        theta0_d = 10*np.pi  # [rad/s]\n",
    "        psi0_d = 0          # [rad/s]\n",
    "        phi0_d = 5*np.pi   # [rad/s]\n",
    "        return m, g, l, Ixx, Iyy, Izz, Ixy, Iyz, Ixz, Mz, theta0, psi0, phi0, theta0_d, psi0_d, phi0_d;\n",
    "\n",
    "def opcaoPiao():\n",
    "    inp = input(\"Escolha o Pião desejado:\\n 1. Pião Clássico v1\\n 2. Pião Clássico v2\\n 3. Pião Totem\\n 4. Pião Saia \\n\")\n",
    "    if inp == \"1\":\n",
    "        return 'Piao Classico v1'\n",
    "    elif inp == \"2\":\n",
    "        return 'Piao Classico v2'\n",
    "    elif inp == \"3\":\n",
    "        return 'Piao Totem'\n",
    "    elif inp == \"4\":\n",
    "        return 'Piao Saia'\n",
    "    else:\n",
    "        print(\"Qualé!!! Escolha um pião, vai!\")\n",
    "        return opcaoPiao()\n",
    "option = opcaoPiao()\n",
    "print(option)"
   ]
  },
  {
   "cell_type": "code",
   "execution_count": 26,
   "metadata": {},
   "outputs": [],
   "source": [
    "# Dados para integração\n",
    "m, g, l, Ixx, Iyy, Izz, Ixy, Iyz, Ixz, Mz, theta0, psi0, phi0, theta0_d, psi0_d, phi0_d = dadosIntegracao(option)\n",
    "\n",
    "# Tempo de integração\n",
    "tf = 10            # Tempo total de integração [s]\n",
    "tn = 2000          # Número de amostras temporais\n",
    "# tf = 1            # Tempo total de integração [s]\n",
    "# tn = 100          # Número de amostras temporais\n",
    "\n",
    "tstep = tf/tn       # Passo temporal\n",
    "t = np.arange(0, tf+tstep/2, tstep) # Vetor de tempo [s]\n",
    "\n",
    "# Integração numérica\n",
    "ans = odeint(piao, y0=[theta0,psi0,phi0,theta0_d,psi0_d,phi0_d], t=t, args=(m,g,l,Ixx,Iyy,Izz,Ixy,Iyz,Ixz,Mz))"
   ]
  },
  {
   "cell_type": "code",
   "execution_count": 27,
   "metadata": {},
   "outputs": [
    {
     "name": "stdout",
     "output_type": "stream",
     "text": [
      "Matrix([[0.05*sin(\\phi(t))*sin(\\theta(t))], [0.05*sin(\\theta(t))*cos(\\phi(t))], [0.05*cos(\\theta(t))]])\n"
     ]
    }
   ],
   "source": [
    "# Obtenção dos ângulos\n",
    "theta_t = ans.T[0]\n",
    "theta_d_t = ans.T[1]\n",
    "psi_t = ans.T[2]\n",
    "psi_d_t = ans.T[3]\n",
    "phi_t = ans.T[4]\n",
    "phi_d_t = ans.T[5]\n",
    "\n",
    "# Obtenção da posição do centro de massa em função do tempo\n",
    "print(T_i3*smp.Matrix([0,0,l]))\n",
    "\n",
    "# Obtenção das posições espaciais [mm]\n",
    "x_t = l*np.sin(phi_t)*np.sin(theta_t)*1E3\n",
    "y_t = l*np.sin(theta_t)*np.cos(phi_t)*1E3\n",
    "z_t = l*np.cos(theta_t)*1E3\n",
    "r_t = np.sqrt(x_t**2 + y_t**2)"
   ]
  },
  {
   "cell_type": "code",
   "execution_count": 28,
   "metadata": {},
   "outputs": [
    {
     "data": {
      "image/png": "[encoded data removed]",
      "text/plain": [
       "<Figure size 640x480 with 1 Axes>"
      ]
     },
     "metadata": {},
     "output_type": "display_data"
    }
   ],
   "source": [
    "# Plotando alguns resultados\n",
    "fig = plt.figure()\n",
    "ax = fig.add_subplot(projection='3d')\n",
    "ax.set_aspect('equal')\n",
    "\n",
    "def equal_axes(x_t,y_t,z_t):\n",
    "    # Create cubic bounding box to simulate equal aspect ratio\n",
    "    max_range = np.array([x_t.max()-x_t.min(), y_t.max()-y_t.min(), z_t.max()-z_t.min()]).max()\n",
    "    Xb = 0.5*max_range*np.mgrid[-1:2:2,-1:2:2,-1:2:2][0].flatten() + 0.5*(x_t.max()+x_t.min())\n",
    "    Yb = 0.5*max_range*np.mgrid[-1:2:2,-1:2:2,-1:2:2][1].flatten() + 0.5*(y_t.max()+y_t.min())\n",
    "    Zb = 0.5*max_range*np.mgrid[-1:2:2,-1:2:2,-1:2:2][2].flatten() + 0.5*(z_t.max()+z_t.min())\n",
    "    # Comment or uncomment following both lines to test the fake bounding box:\n",
    "    for xb, yb, zb in zip(Xb, Yb, Zb):\n",
    "        ax.plot([xb], [yb], [zb], 'r')\n",
    "\n",
    "equal_axes(x_t,y_t,z_t)\n",
    "ax.axes.set_zlim3d(bottom=0,top=1.1*z_t.max())\n",
    "ax.axes.set_ylim3d(bottom=1.1*y_t.min(),top=1.1*y_t.max())\n",
    "ax.axes.set_xlim3d(left=1.1*x_t.min(),right=1.1*x_t.max())\n",
    "ax.plot(x_t, y_t, z_t, 'r')\n",
    "ax.plot(0, 0, marker=\"o\", markersize=5, markeredgecolor=\"black\", markerfacecolor=\"green\")\n",
    "ax.set_xlabel(\"x\")\n",
    "ax.set_ylabel(\"y\")\n",
    "ax.set_zlabel(\"z\")\n",
    "plt.show()"
   ]
  },
  {
   "cell_type": "markdown",
   "metadata": {},
   "source": [
    "##### **9. Mostre as trajetórias geradas e a animação do movimento do pião. Simule ao menos um tempo de 10 segundos e tome cuidados com a escolha do número de amostras e o passo de integração usado.**"
   ]
  },
  {
   "cell_type": "markdown",
   "metadata": {},
   "source": [
    "- **Esta etapa do trabalho fora realizada em MATLAB, visto que as interfaces gráficas são melhores.**"
   ]
  },
  {
   "cell_type": "code",
   "execution_count": 29,
   "metadata": {},
   "outputs": [
    {
     "data": {
      "text/plain": [
       "{'option': 'Piao Classico v1',\n",
       " 'l': 0.05,\n",
       " 't': array([0.000e+00, 5.000e-03, 1.000e-02, ..., 9.990e+00, 9.995e+00,\n",
       "        1.000e+01]),\n",
       " 'x_t': array([ 0.        ,  0.9506218 ,  1.85545557, ..., -1.95540974,\n",
       "        -1.05887659, -0.1113528 ]),\n",
       " 'y_t': array([4.35778714, 4.25283778, 3.94304477, ..., 3.8944438 , 4.22718563,\n",
       "        4.35636541]),\n",
       " 'z_t': array([49.8097349 , 49.80973488, 49.80973482, ..., 49.80973479,\n",
       "        49.80973481, 49.8097348 ]),\n",
       " 'theta_t': array([0.08726646, 0.08726647, 0.08726648, ..., 0.08726649, 0.08726648,\n",
       "        0.08726649]),\n",
       " 'psi_t': array([0.00000000e+00, 1.01138939e-08, 7.00456084e-08, ...,\n",
       "        5.57271628e-04, 5.57387028e-04, 5.57498123e-04]),\n",
       " 'phi_t': array([0.00000000e+00, 2.19911469e-01, 4.39822877e-01, ...,\n",
       "        4.39357643e+02, 4.39577530e+02, 4.39797416e+02]),\n",
       " 'theta_d_t': array([ 0.00000000e+00,  2.05990377e-06,  3.73788309e-06, ...,\n",
       "        -1.42994102e-06, -1.77107649e-07,  1.10873362e-06]),\n",
       " 'psi_d_t': array([0.00000000e+00, 5.25521258e-06, 2.01212999e-05, ...,\n",
       "        2.56916388e-05, 2.15779290e-05, 2.39782019e-05]),\n",
       " 'phi_d_t': array([43.98229715, 43.98228942, 43.98227211, ..., 43.97727656,\n",
       "        43.97727815, 43.97727326])}"
      ]
     },
     "execution_count": 29,
     "metadata": {},
     "output_type": "execute_result"
    }
   ],
   "source": [
    "# Salvando os dados\n",
    "mdic = {\"option\":option, \"l\": l, \"t\":t, \"x_t\": x_t, \"y_t\": y_t, \"z_t\": z_t, \"theta_t\": theta_t, \"psi_t\": psi_t, \"phi_t\": phi_t, \"theta_d_t\": theta_d_t, \"psi_d_t\": psi_d_t, \"phi_d_t\": phi_d_t}\n",
    "mdic"
   ]
  },
  {
   "cell_type": "code",
   "execution_count": 30,
   "metadata": {
    "tags": []
   },
   "outputs": [],
   "source": [
    "savemat(\"dataPiao.mat\", mdic)"
   ]
  }
 ],
 "metadata": {
  "kernelspec": {
   "display_name": "Python 3 (ipykernel)",
   "language": "python",
   "name": "python3"
  },
  "language_info": {
   "codemirror_mode": {
    "name": "ipython",
    "version": 3
   },
   "file_extension": ".py",
   "mimetype": "text/x-python",
   "name": "python",
   "nbconvert_exporter": "python",
   "pygments_lexer": "ipython3",
   "version": "3.10.6"
  }
 },
 "nbformat": 4,
 "nbformat_minor": 4
}
